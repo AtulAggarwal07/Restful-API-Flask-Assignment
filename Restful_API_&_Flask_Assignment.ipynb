{
  "nbformat": 4,
  "nbformat_minor": 0,
  "metadata": {
    "colab": {
      "provenance": []
    },
    "kernelspec": {
      "name": "python3",
      "display_name": "Python 3"
    },
    "language_info": {
      "name": "python"
    }
  },
  "cells": [
    {
      "cell_type": "markdown",
      "source": [
        "# Restful API & Flask\n"
      ],
      "metadata": {
        "id": "iNAOW6OsFRPZ"
      }
    },
    {
      "cell_type": "markdown",
      "source": [
        "- 1) What is a RESTful API?\n",
        "- Answer\n",
        " - A RESTful API (Representational State Transfer) is a way for software to communicate using HTTP methods like GET, POST, PUT, and DELETE. It treats data as resources and allows clients to access or manipulate them via URLs.\n",
        "\n",
        "- 2) Explain the concept of API specification.\n",
        "- Answer\n",
        " - An API specification defines how an API works: the available endpoints, request/response formats, methods used, and expected behavior. Tools like OpenAPI (Swagger) help document and test APIs clearly.\n",
        "\n",
        "- 3) What is Flask, and why is it popular for building APIs?\n",
        "- Answer\n",
        " - Flask is a lightweight Python web framework. It’s popular for APIs because it’s simple, flexible, and lets developers quickly build web services with minimal setup.\n",
        "\n",
        "- 4) What is routing in Flask?\n",
        "- Answer\n",
        " - Routing connects a URL path to a specific function in your Flask app. It tells Flask what to do when a certain endpoint is accessed.\n",
        "\n",
        "- 5) How do you create a simple Flask application?\n",
        "- Answer\n",
        "\n",
        "from flask import Flask\n",
        ">app = Flask(__name__)\n",
        "\n",
        ">@app.route('/')\n",
        ">def home():\n",
        "    return \"Hello, World!\"\n",
        "\n",
        ">if __name__ == '__main__':\n",
        "    app.run(debug=True)\n",
        "\n",
        "- 6) What are HTTP methods used in RESTful APIs?\n",
        "- Answer\n",
        " - GET: Retrieve data , POST: Send data ,PUT: Update data , DELETE: Remove data , PATCH: Partially update data\n",
        "\n",
        "- 7) What is the purpose of the @app.route() decorator in Flask?\n",
        "- Answer\n",
        " - It links a function to a URL route, defining what code runs when someone accesses that route.\n",
        "\n",
        "- 8) What is the difference between GET and POST HTTP methods?\n",
        "- Answer\n",
        " >GET: Requests data, sent in the URL, safe to repeat.\n",
        " >POST: Sends data in the body (e.g., form), used to submit or create new resources.\n",
        "\n",
        "- 9)How do you handle errors in Flask APIs?\n",
        "- Answer\n",
        " - Use @app.errorhandler() decorators or return custom messages with status codes:\n",
        "\n",
        " @app.errorhandler(404)\n",
        "def not_found(error):\n",
        "    return {\"error\": \"Not found\"}, 404\n",
        "\n",
        "- 10) How do you connect Flask to a SQL database?\n",
        "- Answer\n",
        " - Using extensions like Flask-SQLAlchemy:\n",
        "\n",
        " from flask_sqlalchemy import SQLAlchemy\n",
        "app.config['SQLALCHEMY_DATABASE_URI'] = 'sqlite:///data.db'\n",
        "db = SQLAlchemy(app)\n",
        "\n",
        "- 11) What is the role of Flask-SQLAlchemy?\n",
        "- Answer\n",
        " - It simplifies working with SQL databases by combining SQLAlchemy with Flask, enabling ORM (Object Relational Mapping) so you can use Python classes instead of writing raw SQL.\n",
        "\n",
        "- 12) What are Flask blueprints, and how are they useful?\n",
        "- Answer\n",
        " - Blueprints let you organize a Flask app into smaller, reusable modules. Ideal for large apps with many routes.\n",
        "\n",
        "- 13) What is the purpose of Flask's request object?\n",
        "- Answer\n",
        " - It allows you to access data from the client, like form inputs, JSON payloads, headers, etc.\n",
        "\n",
        " from flask import request\n",
        "data = request.json\n",
        "\n",
        "- 14) How do you create a RESTful API endpoint using Flask?\n",
        "- Answer\n",
        " -\n",
        "\n",
        " @app.route('/api/data', methods=['GET'])\n",
        "def get_data():\n",
        "    return {\"message\": \"Success\"}, 200\n",
        "\n",
        "- 15) What is the purpose of Flask's jsonify() function?\n",
        "- Answer\n",
        " - It converts Python dictionaries or lists to a proper JSON response with correct headers.\n",
        "\n",
        "- 16) Explain Flask’s url_for() function\n",
        "- Answer\n",
        " - It dynamically builds a URL for a given function name, useful for linking within the app:\n",
        "\n",
        "url_for('home')  # returns '/'\n",
        "\n",
        "\n",
        "- 17) How does Flask handle static files (CSS, JavaScript, etc.)?\n",
        "- Answer\n",
        " - Place them in a /static folder. Flask serves them automatically:\n",
        "\n",
        "<link rel=\"stylesheet\" href=\"{{ url_for('static', filename='style.css') }}\">\n",
        "\n",
        "- 18) What is an API specification, and how does it help in building a Flask API?\n",
        "- Answer\n",
        " - It documents your API, defining endpoints, parameters, responses, and usage. Makes development, testing, and collaboration easier.\n",
        "\n",
        "- 19) What are HTTP status codes, and why are they important in a Flask API?\n",
        "- Answer\n",
        " - Status codes indicate the result of a request (e.g., 200 = OK, 404 = Not Found, 500 = Server Error). They help clients understand the outcome.\n",
        "\n",
        "- 20)  How do you handle POST requests in Flask?\n",
        "- Answer\n",
        " -\n",
        "\n",
        "@app.route('/submit', methods=['POST'])\n",
        "def submit():\n",
        "    data = request.json\n",
        "    return jsonify({\"received\": data}), 201\n",
        "\n",
        "- 21)How would you secure a Flask API?\n",
        "- Answer\n",
        "\n",
        " - Use HTTPS\n",
        " - Validate inputs\n",
        " - Implement authentication (e.g., API keys, JWT)\n",
        " - Use rate limiting\n",
        " - Avoid exposing sensitive info\n",
        "\n",
        "- 22) What is the significance of the Flask-RESTful extension?\n",
        "- Answer\n",
        " - It simplifies building REST APIs by structuring resources and handling HTTP methods more cleanly.\n",
        "\n",
        "- 23) What is the role of Flask’s session object?\n",
        "- Answer\n",
        " - session stores data across requests for a user (like login status). Data is stored in a secure cookie:\n",
        "\n",
        " from flask import session\n",
        "session['username'] = 'John'\n",
        "\n",
        "\n",
        "\n",
        "\n",
        "\n",
        "\n"
      ],
      "metadata": {
        "id": "KQkCYVXbFZcQ"
      }
    },
    {
      "cell_type": "markdown",
      "source": [
        "# Practicle"
      ],
      "metadata": {
        "id": "YIir_G-fJDpv"
      }
    },
    {
      "cell_type": "code",
      "execution_count": null,
      "metadata": {
        "id": "S3rlOMaOFPtB"
      },
      "outputs": [],
      "source": [
        "# 1) M How do you create a basic Flask application?\n",
        "from flask import Flask\n",
        "app = Flask(__name__)\n",
        "\n",
        "@app.route('/')\n",
        "def home():\n",
        "    return \"Hello, Flask!\"\n",
        "\n",
        "if __name__ == '__main__':\n",
        "    app.run(debug=True)"
      ]
    },
    {
      "cell_type": "code",
      "source": [
        "# 2) How do you serve static files like images or CSS in Flask?\n",
        "<link rel=\"stylesheet\" href=\"{{ url_for('static', filename='style.css') }}\">\n",
        "<img src=\"{{ url_for('static', filename='logo.png') }}\">"
      ],
      "metadata": {
        "id": "Nn_k22CnJqYM"
      },
      "execution_count": null,
      "outputs": []
    },
    {
      "cell_type": "code",
      "source": [
        "# 3) How do you define different routes with different HTTP methods in Flask?\n",
        "@app.route('/submit', methods=['GET', 'POST'])\n",
        "def submit():\n",
        "    if request.method == 'POST':\n",
        "        return \"Form submitted\"\n",
        "    return \"Submit form\"\n"
      ],
      "metadata": {
        "id": "7sqXRTmQJ0Zt"
      },
      "execution_count": null,
      "outputs": []
    },
    {
      "cell_type": "code",
      "source": [
        "# 4) How do you render HTML templates in Flask?\n",
        "from flask import render_template\n",
        "\n",
        "@app.route('/')\n",
        "def home():\n",
        "    return render_template('index.html')\n"
      ],
      "metadata": {
        "id": "_geBDjEGJqbk"
      },
      "execution_count": null,
      "outputs": []
    },
    {
      "cell_type": "code",
      "source": [
        "# 5) How can you generate URLs for routes in Flask using url_for()?\n",
        "\n",
        "@app.route('/about')\n",
        "def about():\n",
        "    return \"About Page\"\n",
        "\n",
        "# Somewhere in template or code\n",
        "url_for('about')  # returns \"/about\"\n"
      ],
      "metadata": {
        "id": "nIWjpd9LJqd1"
      },
      "execution_count": null,
      "outputs": []
    },
    {
      "cell_type": "code",
      "source": [
        "# 6) How do you handle forms in Flask?\n",
        "\n",
        "from flask import request\n",
        "\n",
        "@app.route('/login', methods=['POST'])\n",
        "def login():\n",
        "    username = request.form['username']\n",
        "    return f\"Hello, {username}\"\n"
      ],
      "metadata": {
        "id": "yyz0z4wMJqf8"
      },
      "execution_count": null,
      "outputs": []
    },
    {
      "cell_type": "code",
      "source": [
        "# 7) How can you validate form data in Flask?\n",
        "if not request.form['username']:\n",
        "    return \"Username is required\"\n"
      ],
      "metadata": {
        "id": "4ZPo-DS8Jqhv"
      },
      "execution_count": null,
      "outputs": []
    },
    {
      "cell_type": "code",
      "source": [
        "# 8) How do you manage sessions in Flask?\n",
        "from flask import session\n",
        "\n",
        "app.secret_key = 'your_secret_key'\n",
        "\n",
        "@app.route('/set')\n",
        "def set_session():\n",
        "    session['username'] = 'John'\n",
        "    return \"Session set\"\n",
        "\n",
        "@app.route('/get')\n",
        "def get_session():\n",
        "    return session.get('username', 'Not set')\n"
      ],
      "metadata": {
        "id": "1lvOeSkzJqlv"
      },
      "execution_count": null,
      "outputs": []
    },
    {
      "cell_type": "code",
      "source": [
        "# 9)How do you redirect to a different route in Flask?\n",
        "from flask import redirect, url_for\n",
        "\n",
        "@app.route('/go-home')\n",
        "def go_home():\n",
        "    return redirect(url_for('home'))\n"
      ],
      "metadata": {
        "id": "Ns7RqqoHJqnr"
      },
      "execution_count": null,
      "outputs": []
    },
    {
      "cell_type": "code",
      "source": [
        "# 10) How do you handle errors in Flask (e.g., 404)?\n",
        "@app.errorhandler(404)\n",
        "def page_not_found(error):\n",
        "    return \"Page not found\", 404\n"
      ],
      "metadata": {
        "id": "hA6KbNZbJqpP"
      },
      "execution_count": null,
      "outputs": []
    },
    {
      "cell_type": "code",
      "source": [
        "# 11)  How do you structure a Flask app using Blueprints?\n",
        "from flask import Blueprint\n",
        "\n",
        "user_bp = Blueprint('user', __name__)\n",
        "\n",
        "@user_bp.route('/profile')\n",
        "def profile():\n",
        "    return \"User profile\"\n"
      ],
      "metadata": {
        "id": "LNlboJgtJqrI"
      },
      "execution_count": null,
      "outputs": []
    },
    {
      "cell_type": "code",
      "source": [
        "# 12) How do you define a custom Jinja filter in Flask?\n",
        "@app.template_filter('capitalize')\n",
        "def capitalize_filter(s):\n",
        "    return s.capitalize()\n",
        "\n",
        "\n"
      ],
      "metadata": {
        "id": "q96Y1arWJqsu"
      },
      "execution_count": null,
      "outputs": []
    },
    {
      "cell_type": "code",
      "source": [
        "# 13) How can you redirect with query parameters in Flask?\n",
        "from flask import redirect, url_for\n",
        "\n",
        "@app.route('/search')\n",
        "def search():\n",
        "    return redirect(url_for('results', q='flask'))\n",
        "\n",
        "@app.route('/results')\n",
        "def results():\n",
        "    return request.args.get('q')  # returns 'flask'"
      ],
      "metadata": {
        "id": "6uR5rwBPJqw0"
      },
      "execution_count": null,
      "outputs": []
    },
    {
      "cell_type": "code",
      "source": [
        "# 14) How do you return JSON responses in Flask?\n",
        "from flask import jsonify\n",
        "\n",
        "@app.route('/data')\n",
        "def data():\n",
        "    return jsonify({\"name\": \"Alice\", \"age\": 25})\n"
      ],
      "metadata": {
        "id": "YN48PdttJq7X"
      },
      "execution_count": null,
      "outputs": []
    },
    {
      "cell_type": "code",
      "source": [
        "# 15) How do you capture URL parameters in Flask?\n",
        "@app.route('/user/<username>')\n",
        "def show_user(username):\n",
        "    return f\"Hello, {username}!\"\n"
      ],
      "metadata": {
        "id": "T87eCvclJq9U"
      },
      "execution_count": null,
      "outputs": []
    }
  ]
}